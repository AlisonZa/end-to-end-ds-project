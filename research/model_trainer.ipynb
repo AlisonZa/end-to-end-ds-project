{
 "cells": [
  {
   "cell_type": "code",
   "execution_count": 1,
   "metadata": {},
   "outputs": [
    {
     "data": {
      "text/plain": [
       "'c:\\\\Users\\\\Marina\\\\Desktop\\\\ML Operations\\\\0 - KrishNaik Course\\\\18 - Getting Started With Your First End To End Data Science Project With\\\\my_project'"
      ]
     },
     "execution_count": 1,
     "metadata": {},
     "output_type": "execute_result"
    }
   ],
   "source": [
    "import os\n",
    "os.getcwd()\n",
    "os.chdir(\"../\")\n",
    "os.getcwd()"
   ]
  },
  {
   "cell_type": "markdown",
   "metadata": {},
   "source": [
    "## Creating the Dataclass"
   ]
  },
  {
   "cell_type": "markdown",
   "metadata": {},
   "source": [
    "**Todos os elementos do config.yaml devem estar nesta classe**"
   ]
  },
  {
   "cell_type": "code",
   "execution_count": 2,
   "metadata": {},
   "outputs": [],
   "source": [
    "from dataclasses import dataclass\n",
    "from pathlib import Path\n",
    "\n",
    "# from yaml\n",
    "# model_trainer:\n",
    "  # root_dir: artifacts/model_trainer\n",
    "  # X_train_data_path: artifacts/data_transformation/X_train.csv\n",
    "  # X_test_data_path: artifacts/data_transformation/X_test.csv\n",
    "  # y_train_data_path: artifacts/data_transformation/y}_train.csv\n",
    "  # y_test_data_path: artifacts/data_transformation/y_test.csv\n",
    "  # model_name: model.joblib\n",
    "\n",
    "@dataclass\n",
    "class ModelTrainerConfig():\n",
    "  # config.yaml\n",
    "  root_dir: Path\n",
    "  X_train_data_path: Path\n",
    "  X_test_data_path: Path\n",
    "  y_train_data_path: Path\n",
    "  y_test_data_path: Path\n",
    "  model_name: str\n",
    "\n",
    "  # params.yaml\n",
    "  alpha: float\n",
    "  l1_ratio: float\n",
    "  \n",
    "  # schema.yaml\n",
    "  target_column: str \n",
    "\n"
   ]
  },
  {
   "cell_type": "markdown",
   "metadata": {},
   "source": [
    "## Update the Config Manager"
   ]
  },
  {
   "cell_type": "code",
   "execution_count": 9,
   "metadata": {},
   "outputs": [],
   "source": [
    "from src.datascience.constants import CONFIG_FILEPATH, PARAMS_FILEPATH, SCHEMA_FILEPATH\n",
    "from src.datascience.utils.commons import read_yaml, create_directories\n",
    "\n",
    "class ConfigurationManager():\n",
    "    def __init__(self, # recebe os parâmetros que seram usados para instanciar as propriedades p/leitura\n",
    "                 config_filepath = CONFIG_FILEPATH,\n",
    "                 params_filepath = PARAMS_FILEPATH,\n",
    "                 schema_filepath = SCHEMA_FILEPATH,):\n",
    "        \n",
    "        # instância as propriedades com base nas leituras dos parâmetros passados acima\n",
    "        self.config = read_yaml(config_filepath) # lê as configurações\n",
    "        self.params = read_yaml(params_filepath)\n",
    "        self.schema = read_yaml(schema_filepath)\n",
    "\n",
    "        create_directories([self.config.artifacts_root]) # cria o /artifacts\n",
    "\n",
    "    def get_model_trainer_config(self) -> ModelTrainerConfig:\n",
    "        \n",
    "        config = self.config.model_trainer # change the \"section\" of the config file\n",
    "        params = self.params.ElasticNet\n",
    "        schema = self.schema.TARGET_COLUMNS\n",
    "\n",
    "\n",
    "        create_directories([config.root_dir]) # cria o /artifacts/model_trainer\n",
    "\n",
    "        model_trainer_config = ModelTrainerConfig(\n",
    "            root_dir= config.root_dir,\n",
    "            X_train_data_path= config.X_train_data_path,\n",
    "            X_test_data_path= config.X_test_data_path,\n",
    "            y_train_data_path= config.y_train_data_path,\n",
    "            y_test_data_path= config.y_test_data_path,\n",
    "            model_name = config.model_name,\n",
    "\n",
    "            alpha= params.alpha,\n",
    "            l1_ratio= params.l1_ratio,\n",
    "            \n",
    "            target_column= schema.name,\n",
    "\n",
    "            )\n",
    "        \n",
    "        return model_trainer_config"
   ]
  },
  {
   "cell_type": "markdown",
   "metadata": {},
   "source": [
    "## Update the Components"
   ]
  },
  {
   "cell_type": "code",
   "execution_count": 10,
   "metadata": {},
   "outputs": [],
   "source": [
    "import urllib.request as request\n",
    "import pandas as pd\n",
    "from src.datascience.utils import logger\n",
    "from sklearn.model_selection import train_test_split\n",
    "import numpy as np\n",
    "from sklearn.base import RegressorMixin\n",
    "from sklearn.linear_model import ElasticNet\n",
    "import joblib\n",
    "\n",
    "class ModelTrainer:\n",
    "    def __init__(self, config: ModelTrainerConfig):\n",
    "        # config should be an instance of DataTransformationConfig(the output of the previous cell)\n",
    "        self.config = config\n",
    "\n",
    "        # model_trainer_config = ModelTrainerConfig(\n",
    "        #     root_dir= config.root_dir,\n",
    "        #     X_train_data_path= config.X_train_data_path,\n",
    "        #     X_test_data_path= config.X_test_data_path,\n",
    "        #     y_train_data_path= config.y_train_data_path,\n",
    "        #     y_test_data_path= config.y_test_data_path,\n",
    "        #     model_name = config.model_name,\n",
    "\n",
    "        #     alpha= params.alpha,\n",
    "        #     l1_ratio= params.l1_ratio,\n",
    "            \n",
    "        #     target_column= schema.target_column,\n",
    "\n",
    "    def load_training_data(self) -> tuple[np.ndarray, np.ndarray]:\n",
    "        \"\"\"Loads and converts training and test data to NumPy arrays.\"\"\"\n",
    "        \n",
    "        # Load the data:\n",
    "        X_train = pd.read_csv(self.config.X_train_data_path)\n",
    "        y_train = pd.read_csv(self.config.y_train_data_path)\n",
    "\n",
    "        # Convert to np.arrays\n",
    "        X_train = X_train.values\n",
    "        y_train = y_train.values\n",
    "\n",
    "        return X_train, y_train        \n",
    "\n",
    "    def train_model(self, X_train, y_train) -> RegressorMixin:\n",
    "        \"\"\"Trains the model\"\"\"\n",
    "        try:\n",
    "            # Train the model\n",
    "            hyperparams = {\n",
    "                \"alpha\":self.config.alpha,\n",
    "                \"l1_ratio\":self.config.l1_ratio\n",
    "            }\n",
    "            elastic_net = ElasticNet(random_state= 42, **hyperparams)\n",
    "            elastic_net.fit(X_train, y_train)\n",
    "            logger.info(f\"Sucesfully trained the model\")\n",
    "            return elastic_net\n",
    "\n",
    "        except Exception as e:\n",
    "            logger.exception(f\"Exception during model_training \\n Exception:{e}\")\n",
    "            raise e\n",
    "    \n",
    "    def save_model(self, model: RegressorMixin):\n",
    "        try:\n",
    "            # Ensure the save directory exists\n",
    "            os.makedirs(self.config.root_dir, exist_ok=True)\n",
    "\n",
    "            # Define the complete file path\n",
    "            file_path = os.path.join(self.config.root_dir, self.config.model_name)\n",
    "\n",
    "            # Save the model\n",
    "            joblib.dump(model, file_path)\n",
    "            logger.info(f\"Sucesfully Saved the model to: {self.config.root_dir}\")\n",
    "\n",
    "        except Exception as e:\n",
    "            logger.exception(f\"Exception during model_saving \\n Exception:{e}\")\n",
    "            raise e"
   ]
  },
  {
   "cell_type": "markdown",
   "metadata": {},
   "source": [
    "## Testing"
   ]
  },
  {
   "cell_type": "code",
   "execution_count": 11,
   "metadata": {},
   "outputs": [
    {
     "name": "stdout",
     "output_type": "stream",
     "text": [
      "[2024-11-04 16:27:07,835: INFO: commons: yaml file: config\\config.yaml loaded successfully ]\n",
      "[2024-11-04 16:27:07,839: INFO: commons: yaml file: params.yaml loaded successfully ]\n",
      "[2024-11-04 16:27:07,845: INFO: commons: yaml file: schema.yaml loaded successfully ]\n",
      "[2024-11-04 16:27:07,848: INFO: commons: created directory at: artifacts ]\n",
      "[2024-11-04 16:27:07,851: INFO: commons: created directory at: artifacts/model_trainer ]\n",
      "[2024-11-04 16:27:07,882: INFO: 1581951645: Sucesfully trained the model ]\n",
      "[2024-11-04 16:27:07,889: INFO: 1581951645: Sucesfully Saved the model to: artifacts/model_trainer ]\n"
     ]
    }
   ],
   "source": [
    "from src.datascience.utils import logger\n",
    "\n",
    "try:\n",
    "    # Get the variables from needed for the process\n",
    "    model_trainer_config = ConfigurationManager().get_model_trainer_config()\n",
    "    \n",
    "    # Instantiate the object for performing the Model Training:\n",
    "    model_trainer_object = ModelTrainer(model_trainer_config)\n",
    "    X_train, y_train = model_trainer_object.load_training_data()\n",
    "    trained_model = model_trainer_object.train_model(X_train, y_train)\n",
    "    model_trainer_object.save_model(trained_model)\n",
    "    \n",
    "except Exception as e:\n",
    "    logger.error(f\"Error during model_training. Error {e}\")\n",
    "    raise(e)"
   ]
  },
  {
   "cell_type": "markdown",
   "metadata": {},
   "source": [
    "## Agora iremos converter para código modular"
   ]
  },
  {
   "cell_type": "markdown",
   "metadata": {},
   "source": [
    "Começamos do passo 4 em diante(do workflow em notes.ipynb)"
   ]
  },
  {
   "cell_type": "markdown",
   "metadata": {},
   "source": [
    "O código inteiro da seção `Creating the Dataclass` vai para `src/entity/config_entity.py`\n",
    "\n",
    "O código inteiro da seção `Update the Config Manager` vai para `src/config/configuration.py`\n",
    "\n",
    "O código inteiro da seção `Update the Components` vai para `src/components/nome_da_step.py`\n",
    "\n",
    "O código inteiro da seção `Testing` vai para `src/pipeline/nome_da_step_pipeline.py`, com implementação OOP, ver exemplo \n",
    "\n",
    "O código anterior, vai para `main.py`, podendo chamar diretamente a classe, só ver o exemplo"
   ]
  }
 ],
 "metadata": {
  "kernelspec": {
   "display_name": "ml_ops",
   "language": "python",
   "name": "python3"
  },
  "language_info": {
   "codemirror_mode": {
    "name": "ipython",
    "version": 3
   },
   "file_extension": ".py",
   "mimetype": "text/x-python",
   "name": "python",
   "nbconvert_exporter": "python",
   "pygments_lexer": "ipython3",
   "version": "3.12.0"
  }
 },
 "nbformat": 4,
 "nbformat_minor": 2
}
