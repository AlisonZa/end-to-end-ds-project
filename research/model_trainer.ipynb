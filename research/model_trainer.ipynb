{
 "cells": [
  {
   "cell_type": "code",
   "execution_count": null,
   "metadata": {},
   "outputs": [
    {
     "data": {
      "text/plain": [
       "'c:\\\\Users\\\\Marina\\\\Desktop\\\\ML Operations\\\\0 - KrishNaik Course\\\\18 - Getting Started With Your First End To End Data Science Project With\\\\my_project'"
      ]
     },
     "metadata": {},
     "output_type": "display_data"
    }
   ],
   "source": [
    "import os\n",
    "os.getcwd()\n",
    "os.chdir(\"../\")\n",
    "os.getcwd()"
   ]
  },
  {
   "cell_type": "markdown",
   "metadata": {},
   "source": [
    "## Creating the Dataclass"
   ]
  },
  {
   "cell_type": "markdown",
   "metadata": {},
   "source": [
    "**Todos os elementos do config.yaml devem estar nesta classe**"
   ]
  },
  {
   "cell_type": "code",
   "execution_count": null,
   "metadata": {},
   "outputs": [],
   "source": [
    "from dataclasses import dataclass\n",
    "from pathlib import Path\n",
    "\n",
    "# from yaml\n",
    "# data_transformation:\n",
    "#   root_dir: artifacts/data_transformation\n",
    "#   data_path: artifacts/data_ingestion/winequality-red.csv\n",
    "\n",
    "@dataclass\n",
    "class DataTransformationConfig():\n",
    "    root_dir: Path\n",
    "    data_path: Path\n"
   ]
  },
  {
   "cell_type": "markdown",
   "metadata": {},
   "source": [
    "## Update the Config Manager"
   ]
  },
  {
   "cell_type": "code",
   "execution_count": null,
   "metadata": {},
   "outputs": [],
   "source": [
    "from src.datascience.constants import CONFIG_FILEPATH, PARAMS_FILEPATH, SCHEMA_FILEPATH\n",
    "from src.datascience.utils.commons import read_yaml, create_directories\n",
    "\n",
    "class ConfigurationManager():\n",
    "    def __init__(self, # recebe os parâmetros que seram usados para instanciar as propriedades p/leitura\n",
    "                 config_filepath = CONFIG_FILEPATH,\n",
    "                 params_filepath = PARAMS_FILEPATH,\n",
    "                 schema_filepath = SCHEMA_FILEPATH,):\n",
    "        \n",
    "        # instância as propriedades com base nas leituras dos parâmetros passados acima\n",
    "        self.config = read_yaml(config_filepath) # lê as configurações\n",
    "        self.params = read_yaml(params_filepath)\n",
    "        self.schema = read_yaml(schema_filepath)\n",
    "\n",
    "        create_directories([self.config.artifacts_root]) # cria o /artifacts\n",
    "\n",
    "    def get_data_transformation_config(self) -> DataTransformationConfig:\n",
    "        \n",
    "        config = self.config.data_transformation # change the \"section\" of the config file\n",
    "        \n",
    "        create_directories([config.root_dir])\n",
    "\n",
    "        data_transformation_config = DataTransformationConfig(\n",
    "            root_dir = config.root_dir,\n",
    "            data_path = config.data_path,\n",
    "            )\n",
    "        \n",
    "        return data_transformation_config"
   ]
  },
  {
   "cell_type": "markdown",
   "metadata": {},
   "source": [
    "## Update the Components"
   ]
  },
  {
   "cell_type": "code",
   "execution_count": null,
   "metadata": {},
   "outputs": [],
   "source": [
    "import urllib.request as request\n",
    "import pandas as pd\n",
    "from src.datascience.utils import logger\n",
    "from sklearn.model_selection import train_test_split\n",
    "\n",
    "class DataTransformation:\n",
    "    def __init__(self, config: DataTransformationConfig):\n",
    "        # config should be an instance of DataTransformationConfig(the output of the previous cell)\n",
    "        self.config = config\n",
    "\n",
    "    def split_data(self) -> pd.DataFrame:\n",
    "        \"\"\"Splits the Data\"\"\"\n",
    "        try:\n",
    "            data = pd.read_csv(self.config.data_path)\n",
    "\n",
    "            X = data.iloc[:, :-1]  # Features\n",
    "            y = data.iloc[:, -1]   # Target variable\n",
    "\n",
    "            X_train, X_test, y_train, y_test = train_test_split(X, y, random_state=42, test_size= 0.2,)\n",
    "            \n",
    "            logger.info(f\"Sucesfully splitted the data \\nX_train dimensions:{X_train.shape}\\nX_test dimensions:{X_test.shape}\\ny_train dimensions:{y_train.shape}\\ny_test dimensions:{y_test.shape}   \")\n",
    "\n",
    "            return X_train, X_test, y_train, y_test\n",
    "        \n",
    "        except Exception as e:\n",
    "            logger.exception(f\"Exception during data_splitting \\n Exception:{e}\")\n",
    "            raise e\n",
    "    \n",
    "    def save_splits(self, X_train, X_test, y_train, y_test):\n",
    "        try:\n",
    "            X_train.to_csv(os.path.join(self.config.root_dir, \"X_train.csv\"), index = False)\n",
    "            X_test.to_csv(os.path.join(self.config.root_dir, \"X_test.csv\"), index = False)\n",
    "            y_train.to_csv(os.path.join(self.config.root_dir, \"y_train.csv\"), index = False)\n",
    "            y_test.to_csv(os.path.join(self.config.root_dir, \"y_test.csv\"), index = False)\n",
    "\n",
    "            logger.info(f\"Sucesfully Saved the splits to: {self.config.root_dir}\")\n",
    "\n",
    "        except Exception as e:\n",
    "            logger.exception(f\"Exception during data_splitting \\n Exception:{e}\")\n",
    "            raise e"
   ]
  },
  {
   "cell_type": "markdown",
   "metadata": {},
   "source": [
    "## Testing"
   ]
  },
  {
   "cell_type": "code",
   "execution_count": null,
   "metadata": {},
   "outputs": [
    {
     "name": "stdout",
     "output_type": "stream",
     "text": [
      "[2024-11-04 14:13:20,123: INFO: commons: yaml file: config\\config.yaml loaded successfully ]\n",
      "[2024-11-04 14:13:20,129: INFO: commons: yaml file: params.yaml loaded successfully ]\n",
      "[2024-11-04 14:13:20,149: INFO: commons: yaml file: schema.yaml loaded successfully ]\n",
      "[2024-11-04 14:13:20,153: INFO: commons: created directory at: artifacts ]\n",
      "[2024-11-04 14:13:20,156: INFO: commons: created directory at: artifacts/data_transformation ]\n",
      "[2024-11-04 14:13:20,226: INFO: 4182609033: Sucesfully splitted the data \n",
      "X_train dimensions:(1279, 11)\n",
      "X_test dimensions:(320, 11)\n",
      "y_train dimensions:(1279,)\n",
      "y_test dimensions:(320,)    ]\n",
      "[2024-11-04 14:13:20,264: INFO: 4182609033: Sucesfully Saved the splits to: artifacts/data_transformation ]\n"
     ]
    }
   ],
   "source": [
    "from src.datascience.utils import logger\n",
    "\n",
    "try:\n",
    "    # Get the variables from needed for the process\n",
    "    data_transformation_config = ConfigurationManager().get_data_transformation_config()\n",
    "    \n",
    "    # Instantiate the object for performing the Data Transforming\n",
    "    data_transformation_object = DataTransformation(data_transformation_config)\n",
    "\n",
    "    # Split and Save\n",
    "    X_train, X_test, y_train, y_test = data_transformation_object.split_data()\n",
    "    data_transformation_object.save_splits(X_train, X_test, y_train, y_test)\n",
    "    \n",
    "except Exception as e:\n",
    "    logger.error(f\"Error during data_ingestion. Error {e}\")\n",
    "    raise(e)"
   ]
  },
  {
   "cell_type": "markdown",
   "metadata": {},
   "source": [
    "## Agora iremos converter para código modular"
   ]
  },
  {
   "cell_type": "markdown",
   "metadata": {},
   "source": [
    "Começamos do passo 4 em diante(do workflow em notes.ipynb)"
   ]
  },
  {
   "cell_type": "markdown",
   "metadata": {},
   "source": [
    "O código inteiro da seção `Creating the Dataclass` vai para `src/entity/config_entity.py`\n",
    "\n",
    "O código inteiro da seção `Update the Config Manager` vai para `src/config/configuration.py`\n",
    "\n",
    "O código inteiro da seção `Update the Components` vai para `src/components/nome_da_step.py`\n",
    "\n",
    "O código inteiro da seção `Testing` vai para `src/pipeline/nome_da_step_pipeline.py`, com implementação OOP, ver exemplo \n",
    "\n",
    "O código anterior, vai para `main.py`, podendo chamar diretamente a classe, só ver o exemplo"
   ]
  }
 ],
 "metadata": {
  "kernelspec": {
   "display_name": "ml_ops",
   "language": "python",
   "name": "python3"
  },
  "language_info": {
   "name": "python",
   "version": "3.12.0"
  }
 },
 "nbformat": 4,
 "nbformat_minor": 2
}
