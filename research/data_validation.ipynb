{
 "cells": [
  {
   "cell_type": "code",
   "execution_count": 1,
   "metadata": {},
   "outputs": [
    {
     "data": {
      "text/plain": [
       "'c:\\\\Users\\\\Marina\\\\Desktop\\\\ML Operations\\\\0 - KrishNaik Course\\\\18 - Getting Started With Your First End To End Data Science Project With\\\\my_project'"
      ]
     },
     "execution_count": 1,
     "metadata": {},
     "output_type": "execute_result"
    }
   ],
   "source": [
    "import os\n",
    "os.getcwd()\n",
    "os.chdir(\"../\")\n",
    "os.getcwd()"
   ]
  },
  {
   "cell_type": "markdown",
   "metadata": {},
   "source": [
    "## Defining the Schema"
   ]
  },
  {
   "cell_type": "code",
   "execution_count": 2,
   "metadata": {},
   "outputs": [
    {
     "name": "stdout",
     "output_type": "stream",
     "text": [
      "<class 'pandas.core.frame.DataFrame'>\n",
      "RangeIndex: 1599 entries, 0 to 1598\n",
      "Data columns (total 12 columns):\n",
      " #   Column                Non-Null Count  Dtype  \n",
      "---  ------                --------------  -----  \n",
      " 0   fixed acidity         1599 non-null   float64\n",
      " 1   volatile acidity      1599 non-null   float64\n",
      " 2   citric acid           1599 non-null   float64\n",
      " 3   residual sugar        1599 non-null   float64\n",
      " 4   chlorides             1599 non-null   float64\n",
      " 5   free sulfur dioxide   1599 non-null   float64\n",
      " 6   total sulfur dioxide  1599 non-null   float64\n",
      " 7   density               1599 non-null   float64\n",
      " 8   pH                    1599 non-null   float64\n",
      " 9   sulphates             1599 non-null   float64\n",
      " 10  alcohol               1599 non-null   float64\n",
      " 11  quality               1599 non-null   int64  \n",
      "dtypes: float64(11), int64(1)\n",
      "memory usage: 150.0 KB\n"
     ]
    }
   ],
   "source": [
    "import pandas as pd\n",
    "\n",
    "data = pd.read_csv(\"artifacts/data_ingestion/winequality-red.csv\")\n",
    "\n",
    "data.info()"
   ]
  },
  {
   "cell_type": "markdown",
   "metadata": {},
   "source": [
    "Vamos jogar estas features para o `my_project/schema.yaml`"
   ]
  },
  {
   "cell_type": "markdown",
   "metadata": {},
   "source": [
    "## Creating the Dataclass"
   ]
  },
  {
   "cell_type": "markdown",
   "metadata": {},
   "source": [
    "**Todos os elementos do config.yaml devem estar nesta classe**"
   ]
  },
  {
   "cell_type": "code",
   "execution_count": 3,
   "metadata": {},
   "outputs": [],
   "source": [
    "from dataclasses import dataclass\n",
    "from pathlib import Path\n",
    "\n",
    "@dataclass\n",
    "class DataValidationConfig():\n",
    "    root_dir: Path\n",
    "    unzip_data_dir: Path\n",
    "    STATUS_FILE: str\n",
    "\n",
    "    schema: dict \n"
   ]
  },
  {
   "cell_type": "markdown",
   "metadata": {},
   "source": [
    "## Update the Config Manager"
   ]
  },
  {
   "cell_type": "code",
   "execution_count": 7,
   "metadata": {},
   "outputs": [],
   "source": [
    "from src.datascience.constants import CONFIG_FILEPATH, PARAMS_FILEPATH, SCHEMA_FILEPATH\n",
    "from src.datascience.utils.commons import read_yaml, create_directories\n",
    "\n",
    "class ConfigurationManager():\n",
    "    def __init__(self, # recebe os parâmetros que seram usados para instanciar as propriedades p/leitura\n",
    "                 config_filepath = CONFIG_FILEPATH,\n",
    "                 params_filepath = PARAMS_FILEPATH,\n",
    "                 schema_filepath = SCHEMA_FILEPATH,):\n",
    "        \n",
    "        # instância as propriedades com base nas leituras dos parâmetros passados acima\n",
    "        self.config = read_yaml(config_filepath) # lê as configurações\n",
    "        self.params = read_yaml(params_filepath)\n",
    "        self.schema = read_yaml(schema_filepath)\n",
    "\n",
    "        create_directories([self.config.artifacts_root]) # cria o /artifacts\n",
    "\n",
    "    def get_data_validation_config(self) -> DataValidationConfig:\n",
    "        \n",
    "        config = self.config.data_validation # change the \"section\" of the config file\n",
    "        schema = self.schema.FEATURE_COLUMNS\n",
    "        \n",
    "        create_directories([config.root_dir])\n",
    "\n",
    "        data_validation_config = DataValidationConfig(\n",
    "            root_dir = config.root_dir,\n",
    "            unzip_data_dir = config.unzip_data_dir,\n",
    "            STATUS_FILE = config.STATUS_FILE,\n",
    "            schema = schema)\n",
    "        \n",
    "        return data_validation_config"
   ]
  },
  {
   "cell_type": "markdown",
   "metadata": {},
   "source": [
    "## Update the Components"
   ]
  },
  {
   "cell_type": "code",
   "execution_count": null,
   "metadata": {},
   "outputs": [],
   "source": [
    "import urllib.request as request\n",
    "import pandas as pd\n",
    "from src.datascience.utils import logger\n",
    "import zipfile\n",
    "\n",
    "\n",
    "class DataValidation:\n",
    "    def __init__(self, config: DataValidationConfig):\n",
    "        # config should be an instance of DataValidationConfig\n",
    "        self.config = config\n",
    "\n",
    "    def validate_column_names(self) -> bool:\n",
    "        \"\"\"Validate if all columns match the schema names.\"\"\"\n",
    "        try:\n",
    "            validation_status_names = True\n",
    "            log_messages = []\n",
    "\n",
    "            data = pd.read_csv(self.config.unzip_data_dir)\n",
    "            all_cols = list(data.columns)\n",
    "            schema_columns = set(self.config.schema.keys())\n",
    "\n",
    "            for col in all_cols:\n",
    "                if col not in schema_columns:\n",
    "                    validation_status_names = False\n",
    "                    log_messages.append(f\"Name Validation Status for {col}: False\")\n",
    "                else:\n",
    "                    log_messages.append(f\"Name Validation Status for {col}: True\")\n",
    "\n",
    "            # Write all messages to the status file at once\n",
    "            with open(self.config.STATUS_FILE, \"a\") as f:\n",
    "                f.write(\"\\n\".join(log_messages) + \"\\n\")\n",
    "\n",
    "            return validation_status_names\n",
    "\n",
    "        except Exception as e:\n",
    "            logger.exception(f\"Error during column name validation: {e}\")\n",
    "            raise e\n",
    "\n",
    "    def validate_column_types(self) -> bool:\n",
    "        \"\"\"Validate if all column types match the schema types.\"\"\"\n",
    "        try:\n",
    "            validation_status_types = True\n",
    "            log_messages = []\n",
    "\n",
    "            data = pd.read_csv(self.config.unzip_data_dir)\n",
    "            column_types = data.dtypes.to_dict()\n",
    "            schema_types = self.config.schema\n",
    "\n",
    "            for col, dtype in column_types.items():\n",
    "                if col not in schema_types or schema_types[col] != str(dtype):\n",
    "                    validation_status_types = False\n",
    "                    log_messages.append(f\"Dtype Validation Status for {col}: False\")\n",
    "                else:\n",
    "                    log_messages.append(f\"Dtype Validation Status for {col}: True\")\n",
    "\n",
    "            # Write all messages to the status file at once\n",
    "            with open(self.config.STATUS_FILE, \"a\") as f:\n",
    "                f.write(\"\\n\".join(log_messages) + \"\\n\")\n",
    "\n",
    "            return validation_status_types\n",
    "\n",
    "        except Exception as e:\n",
    "            logger.exception(f\"Error during column type validation: {e}\")\n",
    "            raise e\n"
   ]
  },
  {
   "cell_type": "markdown",
   "metadata": {},
   "source": [
    "## Testing"
   ]
  },
  {
   "cell_type": "code",
   "execution_count": 21,
   "metadata": {},
   "outputs": [
    {
     "name": "stdout",
     "output_type": "stream",
     "text": [
      "[2024-11-04 11:05:12,245: INFO: commons: yaml file: config\\config.yaml loaded successfully ]\n",
      "[2024-11-04 11:05:12,253: INFO: commons: yaml file: params.yaml loaded successfully ]\n",
      "[2024-11-04 11:05:12,257: INFO: commons: yaml file: schema.yaml loaded successfully ]\n",
      "[2024-11-04 11:05:12,259: INFO: commons: created directory at: artifacts ]\n",
      "[2024-11-04 11:05:12,261: INFO: commons: created directory at: artifacts/data_validation ]\n",
      "validate_column_names_status: True \n",
      "validate_column_type_status: True\n"
     ]
    }
   ],
   "source": [
    "from src.datascience.utils import logger\n",
    "\n",
    "try:\n",
    "    # Get the variables from needed for the process\n",
    "    data_validation_config = ConfigurationManager().get_data_validation_config()\n",
    "    \n",
    "    # Instantiate the object for performing the Data Ingestion\n",
    "    data_validation_object = DataValidation(data_validation_config)\n",
    "\n",
    "    # Download and extract\n",
    "    validate_column_names_status = data_validation_object.validate_column_names()\n",
    "    validate_column_type_status = data_validation_object.validate_column_types()\n",
    "    print(f\"validate_column_names_status: {validate_column_names_status} \\nvalidate_column_type_status: {validate_column_type_status}\")\n",
    "\n",
    "except Exception as e:\n",
    "    logger.error(f\"Error during data_ingestion. Error {e}\")\n",
    "    raise(e)"
   ]
  },
  {
   "cell_type": "markdown",
   "metadata": {},
   "source": [
    "## Agora iremos converter para código modular"
   ]
  },
  {
   "cell_type": "markdown",
   "metadata": {},
   "source": [
    "Começamos do passo 4 em diante(do workflow em notes.ipynb)"
   ]
  },
  {
   "cell_type": "markdown",
   "metadata": {},
   "source": [
    "O código inteiro da seção `Creating the Dataclass` vai para `src/entity/config_entity.py`\n",
    "\n",
    "O código inteiro da seção `Update the Config Manager` vai para `src/config/configuration.py`\n",
    "\n",
    "O código inteiro da seção `Update the Components` vai para `src/components/nome_da_step.py`\n",
    "\n",
    "O código inteiro da seção `Testing` vai para `src/pipeline/nome_da_step_pipeline.py`, com implementação OOP, ver exemplo \n",
    "\n",
    "O código anterior, vai para `main.py`, podendo chamar diretamente a classe, só ver o exemplo"
   ]
  }
 ],
 "metadata": {
  "kernelspec": {
   "display_name": "ml_ops",
   "language": "python",
   "name": "python3"
  },
  "language_info": {
   "codemirror_mode": {
    "name": "ipython",
    "version": 3
   },
   "file_extension": ".py",
   "mimetype": "text/x-python",
   "name": "python",
   "nbconvert_exporter": "python",
   "pygments_lexer": "ipython3",
   "version": "3.12.0"
  }
 },
 "nbformat": 4,
 "nbformat_minor": 2
}
