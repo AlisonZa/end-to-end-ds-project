{
 "cells": [
  {
   "cell_type": "code",
   "execution_count": 4,
   "metadata": {},
   "outputs": [
    {
     "data": {
      "text/plain": [
       "'c:\\\\Users\\\\Marina\\\\Desktop\\\\ML Operations\\\\0 - KrishNaik Course\\\\18 - Getting Started With Your First End To End Data Science Project With\\\\my_project'"
      ]
     },
     "execution_count": 4,
     "metadata": {},
     "output_type": "execute_result"
    }
   ],
   "source": [
    "import os\n",
    "os.getcwd()\n",
    "os.chdir(\"../\")\n",
    "os.getcwd()"
   ]
  },
  {
   "cell_type": "markdown",
   "metadata": {},
   "source": [
    "## Creating the Dataclass"
   ]
  },
  {
   "cell_type": "markdown",
   "metadata": {},
   "source": [
    "**Todos os elementos do config.yaml devem estar nesta classe**"
   ]
  },
  {
   "cell_type": "code",
   "execution_count": 5,
   "metadata": {},
   "outputs": [],
   "source": [
    "from dataclasses import dataclass\n",
    "from pathlib import Path\n",
    "\n",
    "@dataclass\n",
    "class DataIngestionConfig():\n",
    "    root_dir: Path\n",
    "    source_URL: str\n",
    "    local_data_file: Path\n",
    "    unzip_dir: Path"
   ]
  },
  {
   "cell_type": "markdown",
   "metadata": {},
   "source": [
    "## Update the Config Manager"
   ]
  },
  {
   "cell_type": "code",
   "execution_count": 9,
   "metadata": {},
   "outputs": [],
   "source": [
    "from src.datascience.constants import CONFIG_FILEPATH, PARAMS_FILEPATH, SCHEMA_FILEPATH\n",
    "from src.datascience.utils.commons import read_yaml, create_directories\n",
    "\n",
    "class ConfigurationManager():\n",
    "    def __init__(self, # recebe os parâmetros que seram usados para instanciar as propriedades p/leitura\n",
    "                 config_filepath = CONFIG_FILEPATH,\n",
    "                 params_filepath = PARAMS_FILEPATH,\n",
    "                 schema_filepath = SCHEMA_FILEPATH,):\n",
    "        \n",
    "        # instância as propriedades com base nas leituras dos parâmetros passados acima\n",
    "        self.config = read_yaml(config_filepath) # lê as configurações\n",
    "        self.params = read_yaml(params_filepath)\n",
    "        self.schema = read_yaml(schema_filepath)\n",
    "\n",
    "        create_directories([self.config.artifacts_root])\n",
    "\n",
    "    def get_data_ingestion_config(self) -> DataIngestionConfig:\n",
    "        \n",
    "        config = self.config.data_ingestion\n",
    "\n",
    "        create_directories([config.root_dir])\n",
    "\n",
    "        data_ingestion_config = DataIngestionConfig(\n",
    "            root_dir = config.root_dir,\n",
    "            source_URL = config.source_URL,\n",
    "            local_data_file = config.local_data_file,\n",
    "            unzip_dir = config.unzip_dir)\n",
    "        \n",
    "        return data_ingestion_config"
   ]
  },
  {
   "cell_type": "markdown",
   "metadata": {},
   "source": [
    "## Update the Components"
   ]
  },
  {
   "cell_type": "code",
   "execution_count": null,
   "metadata": {},
   "outputs": [],
   "source": [
    "import urllib.request as request\n",
    "from src.datascience.utils import logger\n",
    "import zipfile\n",
    "\n",
    "class DataIngestion:\n",
    "    def __init__(self,\n",
    "                 config: DataIngestionConfig):\n",
    "        self.config = config\n",
    "\n",
    "        # Downloading the zip file\n",
    "    def download_file(self):\n",
    "        if not os.path.exists(self.config.local_data_file):\n",
    "            filename, headers = request.urlretrieve(\n",
    "                url = self.config.source_URL,\n",
    "                filename = self.config.local_data_file\n",
    "            )\n",
    "            logger.info(f\"{filename} download! With the following infl \\n {headers}\")\n",
    "        else:\n",
    "            logger.info(f\"File already exists\")\n",
    "\n",
    "    def extract_zip_file(self):\n",
    "        \"\"\"\n",
    "        zip_file_path: str\n",
    "        Extracts the zip file into the data directory\n",
    "        \"\"\"\n",
    "        unzip_path = self.config.unzip_dir\n",
    "        os.makedirs(unzip_path, exist_ok= True)\n",
    "        with zipfile.ZipFile(self.config.local_data_file, \"r\") as zip_ref:\n",
    "            zip_ref.extractall(unzip_path)"
   ]
  },
  {
   "cell_type": "markdown",
   "metadata": {},
   "source": [
    "## Testing"
   ]
  },
  {
   "cell_type": "code",
   "execution_count": null,
   "metadata": {},
   "outputs": [
    {
     "name": "stdout",
     "output_type": "stream",
     "text": [
      "[2024-11-03 21:48:14,113: INFO: commons: yaml file: config\\config.yaml loaded successfully ]\n",
      "[2024-11-03 21:48:14,139: INFO: commons: yaml file: params.yaml loaded successfully ]\n",
      "[2024-11-03 21:48:14,144: INFO: commons: yaml file: schema.yaml loaded successfully ]\n",
      "[2024-11-03 21:48:14,147: INFO: commons: created directory at: artifacts ]\n",
      "[2024-11-03 21:48:14,150: INFO: commons: created directory at: artifacts/data_ingestion ]\n",
      "[2024-11-03 21:48:14,153: INFO: 981039823: File already exists ]\n"
     ]
    }
   ],
   "source": [
    "from src.datascience.utils import logger\n",
    "\n",
    "try:\n",
    "    # Get the variables from needed for the process\n",
    "    data_ingestion_config = ConfigurationManager().get_data_ingestion_config()\n",
    "    \n",
    "    # Instantiate the object for performing the Data Ingestion\n",
    "    data_ingestion_object = DataIngestion(data_ingestion_config)\n",
    "\n",
    "    # Download and extract\n",
    "    data_ingestion_object.download_file()\n",
    "    data_ingestion_object.extract_zip_file()\n",
    "\n",
    "except Exception as e:\n",
    "    logger.error(f\"Error during data_ingestion. Error {e}\")"
   ]
  },
  {
   "cell_type": "markdown",
   "metadata": {},
   "source": [
    "## Agora iremos converter para código modular"
   ]
  },
  {
   "cell_type": "markdown",
   "metadata": {},
   "source": [
    "Começamos do passo 4 em diante(do workflow em notes.ipynb)"
   ]
  },
  {
   "cell_type": "markdown",
   "metadata": {},
   "source": [
    "O código inteiro da seção `Creating the Dataclass` vai para `src/entity/config_entity.py`\n",
    "\n",
    "O código inteiro da seção `Update the Config Manager` vai para `src/config/configuration.py`\n",
    "\n",
    "O código inteiro da seção `Update the Components` vai para `src/components/nome_da_step.py`\n",
    "\n",
    "O código inteiro da seção `Testing` vai para `src/pipeline/nome_da_step_pipeline.py`, com implementação OOP, ver exemplo \n",
    "\n",
    "O código anterior, vai para `main.py`, podendo chamar diretamente a classe, só ver o exemplo\n"
   ]
  }
 ],
 "metadata": {
  "kernelspec": {
   "display_name": "ml_ops",
   "language": "python",
   "name": "python3"
  },
  "language_info": {
   "codemirror_mode": {
    "name": "ipython",
    "version": 3
   },
   "file_extension": ".py",
   "mimetype": "text/x-python",
   "name": "python",
   "nbconvert_exporter": "python",
   "pygments_lexer": "ipython3",
   "version": "3.12.0"
  }
 },
 "nbformat": 4,
 "nbformat_minor": 2
}
